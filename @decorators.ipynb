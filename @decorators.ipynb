{
 "cells": [
  {
   "cell_type": "code",
   "execution_count": 1,
   "id": "2ab9c39d",
   "metadata": {},
   "outputs": [],
   "source": [
    "def symma(a, b):\n",
    "    summa = a + b\n",
    "    return summa"
   ]
  },
  {
   "cell_type": "code",
   "execution_count": 2,
   "id": "5a3329b8",
   "metadata": {},
   "outputs": [
    {
     "data": {
      "text/plain": [
       "4"
      ]
     },
     "execution_count": 2,
     "metadata": {},
     "output_type": "execute_result"
    }
   ],
   "source": [
    "symma(2, 2)\n"
   ]
  },
  {
   "cell_type": "code",
   "execution_count": 3,
   "id": "ad5ef709",
   "metadata": {},
   "outputs": [],
   "source": [
    "symma2 = symma"
   ]
  },
  {
   "cell_type": "code",
   "execution_count": 4,
   "id": "3e059e45",
   "metadata": {},
   "outputs": [
    {
     "data": {
      "text/plain": [
       "7"
      ]
     },
     "execution_count": 4,
     "metadata": {},
     "output_type": "execute_result"
    }
   ],
   "source": [
    "symma2(2, 5)"
   ]
  },
  {
   "cell_type": "code",
   "execution_count": 5,
   "id": "6913c5c0",
   "metadata": {},
   "outputs": [],
   "source": [
    "def hello_world():\n",
    "    def iternal():\n",
    "        print('hello world')\n",
    "    return iternal"
   ]
  },
  {
   "cell_type": "code",
   "execution_count": 6,
   "id": "2edbc0dd",
   "metadata": {},
   "outputs": [],
   "source": [
    "hello = hello_world()"
   ]
  },
  {
   "cell_type": "code",
   "execution_count": 7,
   "id": "687dabfb",
   "metadata": {},
   "outputs": [
    {
     "data": {
      "text/plain": [
       "<function __main__.hello_world.<locals>.iternal()>"
      ]
     },
     "execution_count": 7,
     "metadata": {},
     "output_type": "execute_result"
    }
   ],
   "source": [
    "hello"
   ]
  },
  {
   "cell_type": "code",
   "execution_count": 8,
   "id": "545d0f5a",
   "metadata": {},
   "outputs": [
    {
     "name": "stdout",
     "output_type": "stream",
     "text": [
      "hello world\n"
     ]
    }
   ],
   "source": [
    "hello()"
   ]
  },
  {
   "cell_type": "code",
   "execution_count": 9,
   "id": "2d2052f5",
   "metadata": {},
   "outputs": [
    {
     "name": "stdout",
     "output_type": "stream",
     "text": [
      "hello_world\n"
     ]
    }
   ],
   "source": [
    "def say_something(funk):\n",
    "    funk()\n",
    "    \n",
    "def hello_world():\n",
    "    print('hello_world')\n",
    "    \n",
    "say_something(hello_world)"
   ]
  },
  {
   "cell_type": "code",
   "execution_count": 21,
   "id": "a21feb8b",
   "metadata": {},
   "outputs": [],
   "source": [
    "def log_decorator(funk):\n",
    "    def wrap():\n",
    "        print(f'Calling funk{funk}')\n",
    "        funk()\n",
    "        print(f'func {funk} finished its work')\n",
    "    return wrap()"
   ]
  },
  {
   "cell_type": "code",
   "execution_count": 22,
   "id": "f7f59b33",
   "metadata": {},
   "outputs": [],
   "source": [
    "def helllo():\n",
    "    print('helllo')"
   ]
  },
  {
   "cell_type": "code",
   "execution_count": 23,
   "id": "bb706079",
   "metadata": {},
   "outputs": [
    {
     "name": "stdout",
     "output_type": "stream",
     "text": [
      "Calling funk<function helllo at 0x0000028D528CB700>\n",
      "helllo\n",
      "func <function helllo at 0x0000028D528CB700> finished its work\n"
     ]
    }
   ],
   "source": [
    "wrapped_by_logger = log_decorator(helllo)\n",
    "wrapped_by_logger"
   ]
  },
  {
   "cell_type": "code",
   "execution_count": 24,
   "id": "14de54cb",
   "metadata": {},
   "outputs": [
    {
     "name": "stdout",
     "output_type": "stream",
     "text": [
      "Calling funk<function hello at 0x0000028D529093A0>\n",
      "fdgdasg\n",
      "func <function hello at 0x0000028D529093A0> finished its work\n"
     ]
    }
   ],
   "source": [
    "@log_decorator\n",
    "def hello():\n",
    "    print('fdgdasg')"
   ]
  },
  {
   "cell_type": "code",
   "execution_count": 26,
   "id": "cf95ee7c",
   "metadata": {},
   "outputs": [],
   "source": [
    "from timeit import default_timer as timer\n",
    "import math\n",
    "import time"
   ]
  },
  {
   "cell_type": "code",
   "execution_count": 33,
   "id": "8e7104df",
   "metadata": {},
   "outputs": [],
   "source": [
    "def measure_time(funk):\n",
    "    def inner(*args, **kwargs):\n",
    "        start = timer()\n",
    "        \n",
    "        funk(*args, **kwargs)\n",
    "        \n",
    "        end = timer()\n",
    "        print(f'function {funk.__name__} took {end-start} for execution' )\n",
    "    return inner\n"
   ]
  },
  {
   "cell_type": "code",
   "execution_count": 34,
   "id": "ad65bca6",
   "metadata": {},
   "outputs": [],
   "source": [
    "@measure_time\n",
    "def factorial(num):\n",
    "    time.sleep(3)\n",
    "    print(math.factorial(num))"
   ]
  },
  {
   "cell_type": "code",
   "execution_count": 36,
   "id": "fd33d04e",
   "metadata": {},
   "outputs": [
    {
     "name": "stdout",
     "output_type": "stream",
     "text": [
      "93326215443944152681699238856266700490715968264381621468592963895217599993229915608941463976156518286253697920827223758251185210916864000000000000000000000000\n",
      "function factorial took 3.013057500000059 for execution\n"
     ]
    }
   ],
   "source": [
    "factorial(100)"
   ]
  },
  {
   "cell_type": "code",
   "execution_count": null,
   "id": "f5c42a1c",
   "metadata": {},
   "outputs": [],
   "source": []
  }
 ],
 "metadata": {
  "kernelspec": {
   "display_name": "Python 3 (ipykernel)",
   "language": "python",
   "name": "python3"
  },
  "language_info": {
   "codemirror_mode": {
    "name": "ipython",
    "version": 3
   },
   "file_extension": ".py",
   "mimetype": "text/x-python",
   "name": "python",
   "nbconvert_exporter": "python",
   "pygments_lexer": "ipython3",
   "version": "3.8.0"
  }
 },
 "nbformat": 4,
 "nbformat_minor": 5
}
