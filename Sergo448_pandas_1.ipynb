{
 "cells": [
  {
   "cell_type": "code",
   "execution_count": 3,
   "id": "90e5f9aa",
   "metadata": {},
   "outputs": [],
   "source": [
    "import sqlite3\n",
    "import pandas as pd\n",
    "import os\n",
    "\n",
    "pd.set_option('display.max_column', None)"
   ]
  },
  {
   "cell_type": "code",
   "execution_count": 4,
   "id": "3ae649b6",
   "metadata": {},
   "outputs": [],
   "source": [
    "# Leave that code unchanged, it is required for the server check!\n",
    "db = sqlite3.connect(os.environ.get(\"DB_PATH\") or 'database.sqlite')"
   ]
  },
  {
   "cell_type": "code",
   "execution_count": 5,
   "id": "e6cbd888",
   "metadata": {},
   "outputs": [],
   "source": [
    "# You may load the data from SQL table directly to the Pandas dataframe as\n",
    "player_data = pd.read_sql(\"SELECT * FROM Player;\", db)\n",
    "player_stats_data = pd.read_sql(\"SELECT * FROM Player_Attributes;\", db)\n",
    "team_data = pd.read_sql(\"SELECT * FROM Team;\", db)\n",
    "match_data = pd.read_sql(\"SELECT * FROM Match;\", db)\n",
    "league_data = pd.read_sql(\"SELECT * FROM LEAGUE;\", db)"
   ]
  },
  {
   "cell_type": "code",
   "execution_count": 6,
   "id": "e27962cb",
   "metadata": {},
   "outputs": [
    {
     "data": {
      "text/html": [
       "<div>\n",
       "<style scoped>\n",
       "    .dataframe tbody tr th:only-of-type {\n",
       "        vertical-align: middle;\n",
       "    }\n",
       "\n",
       "    .dataframe tbody tr th {\n",
       "        vertical-align: top;\n",
       "    }\n",
       "\n",
       "    .dataframe thead th {\n",
       "        text-align: right;\n",
       "    }\n",
       "</style>\n",
       "<table border=\"1\" class=\"dataframe\">\n",
       "  <thead>\n",
       "    <tr style=\"text-align: right;\">\n",
       "      <th></th>\n",
       "      <th>id</th>\n",
       "      <th>player_api_id</th>\n",
       "      <th>player_name</th>\n",
       "      <th>player_fifa_api_id</th>\n",
       "      <th>birthday</th>\n",
       "      <th>height</th>\n",
       "      <th>weight</th>\n",
       "    </tr>\n",
       "  </thead>\n",
       "  <tbody>\n",
       "    <tr>\n",
       "      <th>0</th>\n",
       "      <td>1</td>\n",
       "      <td>505942</td>\n",
       "      <td>Aaron Appindangoye</td>\n",
       "      <td>218353</td>\n",
       "      <td>1992-02-29 00:00:00</td>\n",
       "      <td>182.88</td>\n",
       "      <td>187</td>\n",
       "    </tr>\n",
       "    <tr>\n",
       "      <th>1</th>\n",
       "      <td>2</td>\n",
       "      <td>155782</td>\n",
       "      <td>Aaron Cresswell</td>\n",
       "      <td>189615</td>\n",
       "      <td>1989-12-15 00:00:00</td>\n",
       "      <td>170.18</td>\n",
       "      <td>146</td>\n",
       "    </tr>\n",
       "    <tr>\n",
       "      <th>2</th>\n",
       "      <td>3</td>\n",
       "      <td>162549</td>\n",
       "      <td>Aaron Doran</td>\n",
       "      <td>186170</td>\n",
       "      <td>1991-05-13 00:00:00</td>\n",
       "      <td>170.18</td>\n",
       "      <td>163</td>\n",
       "    </tr>\n",
       "    <tr>\n",
       "      <th>3</th>\n",
       "      <td>4</td>\n",
       "      <td>30572</td>\n",
       "      <td>Aaron Galindo</td>\n",
       "      <td>140161</td>\n",
       "      <td>1982-05-08 00:00:00</td>\n",
       "      <td>182.88</td>\n",
       "      <td>198</td>\n",
       "    </tr>\n",
       "    <tr>\n",
       "      <th>4</th>\n",
       "      <td>5</td>\n",
       "      <td>23780</td>\n",
       "      <td>Aaron Hughes</td>\n",
       "      <td>17725</td>\n",
       "      <td>1979-11-08 00:00:00</td>\n",
       "      <td>182.88</td>\n",
       "      <td>154</td>\n",
       "    </tr>\n",
       "  </tbody>\n",
       "</table>\n",
       "</div>"
      ],
      "text/plain": [
       "   id  player_api_id         player_name  player_fifa_api_id  \\\n",
       "0   1         505942  Aaron Appindangoye              218353   \n",
       "1   2         155782     Aaron Cresswell              189615   \n",
       "2   3         162549         Aaron Doran              186170   \n",
       "3   4          30572       Aaron Galindo              140161   \n",
       "4   5          23780        Aaron Hughes               17725   \n",
       "\n",
       "              birthday  height  weight  \n",
       "0  1992-02-29 00:00:00  182.88     187  \n",
       "1  1989-12-15 00:00:00  170.18     146  \n",
       "2  1991-05-13 00:00:00  170.18     163  \n",
       "3  1982-05-08 00:00:00  182.88     198  \n",
       "4  1979-11-08 00:00:00  182.88     154  "
      ]
     },
     "execution_count": 6,
     "metadata": {},
     "output_type": "execute_result"
    }
   ],
   "source": [
    "player_data.head()"
   ]
  },
  {
   "cell_type": "markdown",
   "id": "62ebde9b",
   "metadata": {},
   "source": [
    "Task_1"
   ]
  },
  {
   "cell_type": "code",
   "execution_count": 23,
   "id": "05996947",
   "metadata": {},
   "outputs": [
    {
     "data": {
      "text/plain": [
       "5925"
      ]
     },
     "execution_count": 23,
     "metadata": {},
     "output_type": "execute_result"
    }
   ],
   "source": [
    "players_180_190 = player_data[(player_data['height'] >= 180) & (player_data['height'] <= 190)].shape[0]\n",
    "players_180_190"
   ]
  },
  {
   "cell_type": "code",
   "execution_count": 24,
   "id": "6a2eb88c",
   "metadata": {},
   "outputs": [],
   "source": [
    "assert(isinstance(players_180_190, int))"
   ]
  },
  {
   "cell_type": "raw",
   "id": "7c0c0679",
   "metadata": {},
   "source": [
    "Task_2"
   ]
  },
  {
   "cell_type": "code",
   "execution_count": 25,
   "id": "b727d4d2",
   "metadata": {},
   "outputs": [
    {
     "data": {
      "text/plain": [
       "434"
      ]
     },
     "execution_count": 25,
     "metadata": {},
     "output_type": "execute_result"
    }
   ],
   "source": [
    "player_data['birthday'] = pd.to_datetime(player_data['birthday'])\n",
    "players_1980 = player_data[player_data['birthday'].dt.year == 1980].shape[0]\n",
    "players_1980"
   ]
  },
  {
   "cell_type": "code",
   "execution_count": 26,
   "id": "61c637c2",
   "metadata": {},
   "outputs": [],
   "source": [
    "assert(isinstance(players_1980, int))"
   ]
  },
  {
   "cell_type": "markdown",
   "id": "2e32810a",
   "metadata": {},
   "source": [
    "Task_3"
   ]
  },
  {
   "cell_type": "code",
   "execution_count": 27,
   "id": "619d652a",
   "metadata": {},
   "outputs": [
    {
     "data": {
      "text/plain": [
       "['Kristof van Hout',\n",
       " 'Tim Wiese',\n",
       " 'Jeroen Verhoeven',\n",
       " 'Ishmael Miller',\n",
       " 'Cassio',\n",
       " 'Christopher Samba',\n",
       " 'Lars Unnerstall',\n",
       " 'Marcus Hahnemann',\n",
       " 'Abdoulaye Faye',\n",
       " 'Enoch Showunmi']"
      ]
     },
     "execution_count": 27,
     "metadata": {},
     "output_type": "execute_result"
    }
   ],
   "source": [
    "highest_players = player_data.sort_values(by = ['weight', 'player_name'], ascending=[False, True])[:10]['player_name'].tolist()\n",
    "highest_players"
   ]
  },
  {
   "cell_type": "code",
   "execution_count": 28,
   "id": "af21dc2c",
   "metadata": {},
   "outputs": [],
   "source": [
    "assert(isinstance(highest_players, list))"
   ]
  },
  {
   "cell_type": "markdown",
   "id": "0e5aaccc",
   "metadata": {},
   "source": [
    "Task_4"
   ]
  },
  {
   "cell_type": "code",
   "execution_count": 29,
   "id": "6eb318a0",
   "metadata": {},
   "outputs": [
    {
     "data": {
      "text/plain": [
       "[(1980, 434),\n",
       " (1981, 475),\n",
       " (1982, 487),\n",
       " (1983, 541),\n",
       " (1984, 607),\n",
       " (1985, 593),\n",
       " (1986, 710),\n",
       " (1987, 722),\n",
       " (1988, 802),\n",
       " (1989, 723),\n",
       " (1990, 696)]"
      ]
     },
     "execution_count": 29,
     "metadata": {},
     "output_type": "execute_result"
    }
   ],
   "source": [
    "player_data['birthday_year'] = player_data['birthday'].dt.year\n",
    "born_years = player_data.groupby('birthday_year').size().loc[lambda x: (1980 <= x.index) & (x.index <= 1990)]\n",
    "year_born_players = list(born_years.items())\n",
    "year_born_players"
   ]
  },
  {
   "cell_type": "code",
   "execution_count": 30,
   "id": "6af8bb44",
   "metadata": {},
   "outputs": [],
   "source": [
    "assert(len(year_born_players) == 11)\n",
    "assert(isinstance(year_born_players, list))\n",
    "for i in range(10):\n",
    "    assert(isinstance(year_born_players[i], tuple))\n",
    "    assert(isinstance(year_born_players[i][0], int))\n",
    "    assert(isinstance(year_born_players[i][0], int))"
   ]
  },
  {
   "cell_type": "markdown",
   "id": "e480c001",
   "metadata": {},
   "source": [
    "Task_5"
   ]
  },
  {
   "cell_type": "code",
   "execution_count": 33,
   "id": "a1d452be",
   "metadata": {},
   "outputs": [
    {
     "data": {
      "text/plain": [
       "(182.118, 5.361479480723788)"
      ]
     },
     "execution_count": 33,
     "metadata": {},
     "output_type": "execute_result"
    }
   ],
   "source": [
    "mask = player_data['player_name'].str.startswith('Adriano')\n",
    "adriano_mean, adriano_std = player_data[mask]['height'].mean(), player_data[mask]['height'].std()\n",
    "(adriano_mean, adriano_std)"
   ]
  },
  {
   "cell_type": "code",
   "execution_count": 34,
   "id": "a7e60fcb",
   "metadata": {},
   "outputs": [],
   "source": [
    "assert(isinstance(adriano_mean, float))\n",
    "assert(isinstance(adriano_std, float))"
   ]
  },
  {
   "cell_type": "markdown",
   "id": "95071fc1",
   "metadata": {},
   "source": [
    "Task_6"
   ]
  },
  {
   "cell_type": "code",
   "execution_count": 37,
   "id": "6fc4a4c4",
   "metadata": {},
   "outputs": [
    {
     "data": {
      "text/plain": [
       "'Sunday'"
      ]
     },
     "execution_count": 37,
     "metadata": {},
     "output_type": "execute_result"
    }
   ],
   "source": [
    "dow_with_min_players_born = player_data.groupby(player_data['birthday'].dt.day_name()).size().sort_values().keys()[0]\n",
    "dow_with_min_players_born"
   ]
  },
  {
   "cell_type": "code",
   "execution_count": 38,
   "id": "0ec510f2",
   "metadata": {},
   "outputs": [],
   "source": [
    "assert(isinstance(dow_with_min_players_born, str))"
   ]
  },
  {
   "cell_type": "markdown",
   "id": "0d27e975",
   "metadata": {},
   "source": [
    "Task_7"
   ]
  },
  {
   "cell_type": "code",
   "execution_count": 51,
   "id": "bf3d4e89",
   "metadata": {},
   "outputs": [
    {
     "data": {
      "text/plain": [
       "'England Premier League'"
      ]
     },
     "execution_count": 51,
     "metadata": {},
     "output_type": "execute_result"
    }
   ],
   "source": [
    "league = league_data[['id', 'name']]\n",
    "league.columns = ['league_id', 'league_name']\n",
    "\n",
    "league_most_matches = match_data \\\n",
    ".merge(league, 'left') \\\n",
    ".groupby('league_name').size() \\\n",
    ".reset_index().sort_values(by=[0, 'league_name'], ascending=[False, True]).iloc[0]['league_name']\n",
    "\n",
    "league_most_matches"
   ]
  },
  {
   "cell_type": "code",
   "execution_count": 52,
   "id": "ec39bafc",
   "metadata": {},
   "outputs": [],
   "source": [
    "assert(isinstance(league_most_matches, str))"
   ]
  },
  {
   "cell_type": "markdown",
   "id": "ce29203e",
   "metadata": {},
   "source": [
    "Task_8"
   ]
  },
  {
   "cell_type": "code",
   "execution_count": 53,
   "id": "12c646aa",
   "metadata": {},
   "outputs": [],
   "source": [
    "import re\n",
    "\n",
    "home_player_cols = [c for c in match_data.columns if re.match(r'home_player_\\d\\d?', c)]\n",
    "away_player_cols = [c for c in match_data.columns if re.match(r'away_player_\\d\\d?', c)]\n",
    "player_cols = home_player_cols + away_player_cols\n",
    "\n",
    "max_matches_player_id = match_data \\\n",
    ".melt(value_vars=player_cols) \\\n",
    ".groupby('value').size() \\\n",
    ".sort_values(ascending=False) \\\n",
    ".leys()[0]\n",
    "\n",
    "max_matches_player = player_data[player_data['player_api_id'] == max_matches_player_id]"
   ]
  },
  {
   "cell_type": "code",
   "execution_count": null,
   "id": "e94183fb",
   "metadata": {},
   "outputs": [],
   "source": []
  }
 ],
 "metadata": {
  "kernelspec": {
   "display_name": "Python 3 (ipykernel)",
   "language": "python",
   "name": "python3"
  },
  "language_info": {
   "codemirror_mode": {
    "name": "ipython",
    "version": 3
   },
   "file_extension": ".py",
   "mimetype": "text/x-python",
   "name": "python",
   "nbconvert_exporter": "python",
   "pygments_lexer": "ipython3",
   "version": "3.8.0"
  }
 },
 "nbformat": 4,
 "nbformat_minor": 5
}
